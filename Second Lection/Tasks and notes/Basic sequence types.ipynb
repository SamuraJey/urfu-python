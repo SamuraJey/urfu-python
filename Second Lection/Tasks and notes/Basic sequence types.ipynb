{
 "cells": [
  {
   "cell_type": "markdown",
   "id": "billion-forest",
   "metadata": {},
   "source": [
    "# Стандартные типы данных\n",
    "Подробно можно почитать:\n",
    "* https://docs.python.org/3/reference/datamodel.html#the-standard-type-hierarchy\n",
    "* https://docs.python.org/3/library/stdtypes.html#mutable-sequence-types\n",
    "\n",
    "И посмотреть help() чтобы поглядеть методы, которые они определяют.\n",
    "\n",
    "## Строки, bytes, bytearray\n"
   ]
  },
  {
   "cell_type": "code",
   "execution_count": null,
   "id": "driven-dragon",
   "metadata": {},
   "outputs": [],
   "source": [
    "s = 'abracadabra'\n",
    "b = b'some bytes'\n",
    "a = bytearray(b'abacaba') # как bytes, только mutable\n",
    "a[3:4] = b'BATMAN'\n",
    "s"
   ]
  },
  {
   "cell_type": "code",
   "execution_count": null,
   "id": "assisted-logging",
   "metadata": {},
   "outputs": [],
   "source": [
    "# Вопрос на засыпку: какого типа s[i]?"
   ]
  },
  {
   "cell_type": "markdown",
   "id": "turned-creation",
   "metadata": {},
   "source": [
    "## Списки:"
   ]
  },
  {
   "cell_type": "code",
   "execution_count": 3,
   "id": "greek-palestinian",
   "metadata": {},
   "outputs": [],
   "source": [
    "l1 = [1, 2, 3]\n",
    "l2 = [\n",
    "    'a',\n",
    "    'b',\n",
    "    'c', # запятая в конце не считается ошибкой, очень упрощает перестановку элементов в исходниках\n",
    "]\n",
    "l3 = ['a', 1, [False, 'b'],] # могут содержать элементы различных типов... но лучше пожалуйста не надо)"
   ]
  },
  {
   "cell_type": "code",
   "execution_count": 4,
   "id": "auburn-antenna",
   "metadata": {},
   "outputs": [
    {
     "data": {
      "text/plain": [
       "[[...], 2, 3]"
      ]
     },
     "execution_count": 4,
     "metadata": {},
     "output_type": "execute_result"
    }
   ],
   "source": [
    "l1[0] = l1 # в целом может содержать даже сам себя\n",
    "l1 # и jupyter даже справляется с этим)"
   ]
  },
  {
   "cell_type": "code",
   "execution_count": 5,
   "id": "divine-attendance",
   "metadata": {},
   "outputs": [
    {
     "name": "stdout",
     "output_type": "stream",
     "text": [
      "[['d', 'b', 'c'], ['d', 'b', 'c']]\n"
     ]
    }
   ],
   "source": [
    "l4 = [l2, l2]\n",
    "l2[0] = 'd'\n",
    "print(l4) # как думаете, что будет?"
   ]
  },
  {
   "cell_type": "code",
   "execution_count": 6,
   "id": "suburban-bermuda",
   "metadata": {},
   "outputs": [
    {
     "data": {
      "text/plain": [
       "[['a', 'b', 'c'], ['d', 'b', 'c']]"
      ]
     },
     "execution_count": 6,
     "metadata": {},
     "output_type": "execute_result"
    }
   ],
   "source": [
    "l4 = [list(l2), list(l2)] # создать по копии списка\n",
    "l4[0][0] = 'a'\n",
    "l4"
   ]
  },
  {
   "cell_type": "code",
   "execution_count": 7,
   "id": "portuguese-lying",
   "metadata": {},
   "outputs": [
    {
     "name": "stdout",
     "output_type": "stream",
     "text": [
      "True\n",
      "True\n"
     ]
    }
   ],
   "source": [
    "l1 = [1, 4, 9, 16, 25]\n",
    "l2 = [x**2 for x in range(1,6)]\n",
    "l3 = [1, 4, 10, 1, 1]\n",
    "print(l1 == l2) # по-элементное сравнение\n",
    "print(l1 < l3)  # в лексикографическом порядке"
   ]
  },
  {
   "cell_type": "code",
   "execution_count": 8,
   "id": "material-terrace",
   "metadata": {},
   "outputs": [],
   "source": [
    "# help(l2) #- много полезных методов, стоит посмотреть самим"
   ]
  },
  {
   "cell_type": "markdown",
   "id": "dominant-identity",
   "metadata": {},
   "source": [
    "Как они устроены изнутри?\n",
    "[Вот так...](https://github.com/python/cpython/blob/master/Objects/listobject.c)\n",
    "Но об этом поговорим как-нибудь по-позже :D"
   ]
  },
  {
   "cell_type": "markdown",
   "id": "specialized-lawsuit",
   "metadata": {},
   "source": [
    "## Кортежи:"
   ]
  },
  {
   "cell_type": "code",
   "execution_count": 17,
   "id": "strange-vocabulary",
   "metadata": {},
   "outputs": [
    {
     "name": "stdout",
     "output_type": "stream",
     "text": [
      "2\n"
     ]
    }
   ],
   "source": [
    "t = (1,2,3)\n",
    "t = tuple(['q',2,3])\n",
    "# t[0] = 4\n",
    "a,b,c = t # можно делать вот так\n",
    "print(b)"
   ]
  },
  {
   "cell_type": "markdown",
   "id": "seasonal-excitement",
   "metadata": {},
   "source": [
    "## Словари:"
   ]
  },
  {
   "cell_type": "code",
   "execution_count": 10,
   "id": "plastic-operation",
   "metadata": {},
   "outputs": [],
   "source": [
    "d1 = {'a': 1, 'b': 2}\n",
    "d2 = dict(a=1, b=2)"
   ]
  },
  {
   "cell_type": "code",
   "execution_count": 11,
   "id": "pressing-immigration",
   "metadata": {},
   "outputs": [
    {
     "data": {
      "text/plain": [
       "{1: 1, 2: 4, 3: 9, 4: 16, 5: 25, 10: 100}"
      ]
     },
     "execution_count": 11,
     "metadata": {},
     "output_type": "execute_result"
    }
   ],
   "source": [
    "d = {x: x**2 for x in range(6)}\n",
    "d[10] = 100\n",
    "del d[0]\n",
    "d"
   ]
  },
  {
   "cell_type": "code",
   "execution_count": 12,
   "id": "sticky-scout",
   "metadata": {},
   "outputs": [
    {
     "data": {
      "text/plain": [
       "25"
      ]
     },
     "execution_count": 12,
     "metadata": {},
     "output_type": "execute_result"
    }
   ],
   "source": [
    "d.pop(5)"
   ]
  },
  {
   "cell_type": "code",
   "execution_count": 13,
   "id": "looking-toilet",
   "metadata": {},
   "outputs": [
    {
     "data": {
      "text/plain": [
       "dict_items([(1, 1), (2, 4), (3, 9), (4, 16), (10, 100)])"
      ]
     },
     "execution_count": 13,
     "metadata": {},
     "output_type": "execute_result"
    }
   ],
   "source": [
    "d.items()"
   ]
  },
  {
   "cell_type": "code",
   "execution_count": 14,
   "id": "amino-tablet",
   "metadata": {},
   "outputs": [
    {
     "name": "stdout",
     "output_type": "stream",
     "text": [
      "1 1\n",
      "2 4\n",
      "3 9\n",
      "4 16\n",
      "10 100\n"
     ]
    }
   ],
   "source": [
    "#пройтись по всем элементам:\n",
    "for k,v in d.items():\n",
    "    print(k,v)"
   ]
  },
  {
   "cell_type": "code",
   "execution_count": 15,
   "id": "tracked-membrane",
   "metadata": {},
   "outputs": [],
   "source": [
    "d = {x: x**2 for x in range(6)}\n",
    "# Что будет если добавить или удалить ключ пока мы идём по словарю?\n",
    "# А если изменим значение?"
   ]
  },
  {
   "cell_type": "markdown",
   "id": "transparent-column",
   "metadata": {},
   "source": [
    "## Словари и хешируемость"
   ]
  },
  {
   "cell_type": "code",
   "execution_count": 16,
   "id": "athletic-soldier",
   "metadata": {},
   "outputs": [
    {
     "ename": "TypeError",
     "evalue": "unhashable type: 'list'",
     "output_type": "error",
     "traceback": [
      "\u001b[1;31m---------------------------------------------------------------------------\u001b[0m",
      "\u001b[1;31mTypeError\u001b[0m                                 Traceback (most recent call last)",
      "\u001b[1;32mc:\\Users\\SamuraJ\\Documents\\Codes\\Python\\Second Lection\\Basic sequence types.ipynb Cell 22\u001b[0m line \u001b[0;36m3\n\u001b[0;32m      <a href='vscode-notebook-cell:/c%3A/Users/SamuraJ/Documents/Codes/Python/Second%20Lection/Basic%20sequence%20types.ipynb#X30sZmlsZQ%3D%3D?line=0'>1</a>\u001b[0m \u001b[39m# Что может быть ключами словаря?\u001b[39;00m\n\u001b[0;32m      <a href='vscode-notebook-cell:/c%3A/Users/SamuraJ/Documents/Codes/Python/Second%20Lection/Basic%20sequence%20types.ipynb#X30sZmlsZQ%3D%3D?line=1'>2</a>\u001b[0m d[(\u001b[39m1\u001b[39m,\u001b[39m2\u001b[39m,\u001b[39m3\u001b[39m)] \u001b[39m=\u001b[39m \u001b[39m1\u001b[39m\n\u001b[1;32m----> <a href='vscode-notebook-cell:/c%3A/Users/SamuraJ/Documents/Codes/Python/Second%20Lection/Basic%20sequence%20types.ipynb#X30sZmlsZQ%3D%3D?line=2'>3</a>\u001b[0m d[[\u001b[39m1\u001b[39;49m,\u001b[39m2\u001b[39;49m,\u001b[39m3\u001b[39;49m]] \u001b[39m=\u001b[39m \u001b[39m2\u001b[39m\n",
      "\u001b[1;31mTypeError\u001b[0m: unhashable type: 'list'"
     ]
    }
   ],
   "source": [
    "# Что может быть ключами словаря?\n",
    "d[(1,2,3)] = 1\n",
    "d[[1,2,3]] = 2"
   ]
  },
  {
   "cell_type": "code",
   "execution_count": null,
   "id": "appropriate-calcium",
   "metadata": {},
   "outputs": [],
   "source": [
    "hash([1,2,3])"
   ]
  },
  {
   "cell_type": "markdown",
   "id": "dense-sodium",
   "metadata": {},
   "source": [
    "## Множества"
   ]
  },
  {
   "cell_type": "code",
   "execution_count": null,
   "id": "confirmed-detection",
   "metadata": {},
   "outputs": [],
   "source": [
    "s = set() # пустой\n",
    "s = {1,2,3}\n",
    "print(s.union({2,3,4})) # as usual, see help(s) for more\n",
    "\n",
    "l = [1,2,4,6,1,4]\n",
    "print(list(set(l)))"
   ]
  },
  {
   "cell_type": "code",
   "execution_count": null,
   "id": "single-status",
   "metadata": {},
   "outputs": [],
   "source": [
    "hash(s)"
   ]
  },
  {
   "cell_type": "code",
   "execution_count": 18,
   "id": "talented-pantyhose",
   "metadata": {},
   "outputs": [
    {
     "name": "stdout",
     "output_type": "stream",
     "text": [
      "145533160790556670\n",
      "frozenset({1, 5, 6, 8, 9})\n",
      "4302365196296250214\n"
     ]
    }
   ],
   "source": [
    "s = frozenset({1,5,6})\n",
    "print(hash(s))\n",
    "s |= {8, 9}\n",
    "print(s)\n",
    "print(hash(s))\n",
    "# Вопрос на засыпку: как так?)"
   ]
  },
  {
   "cell_type": "code",
   "execution_count": null,
   "id": "defensive-portugal",
   "metadata": {},
   "outputs": [],
   "source": [
    "# Спасибо Александру Анкутдинову за создание основы этих файлов"
   ]
  }
 ],
 "metadata": {
  "kernelspec": {
   "display_name": "Python 3 (ipykernel)",
   "language": "python",
   "name": "python3"
  },
  "language_info": {
   "codemirror_mode": {
    "name": "ipython",
    "version": 3
   },
   "file_extension": ".py",
   "mimetype": "text/x-python",
   "name": "python",
   "nbconvert_exporter": "python",
   "pygments_lexer": "ipython3",
   "version": "3.11.3"
  }
 },
 "nbformat": 4,
 "nbformat_minor": 5
}
