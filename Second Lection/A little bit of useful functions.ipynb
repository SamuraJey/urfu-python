{
 "cells": [
  {
   "cell_type": "markdown",
   "id": "generic-chrome",
   "metadata": {},
   "source": [
    "### 1. enumerate/min/max/sum"
   ]
  },
  {
   "cell_type": "code",
   "execution_count": 4,
   "id": "breathing-command",
   "metadata": {},
   "outputs": [
    {
     "name": "stdout",
     "output_type": "stream",
     "text": [
      "1. p\n",
      "2. число\n",
      "3. c\n"
     ]
    }
   ],
   "source": [
    "# enumerate\n",
    "for i, el in enumerate(['p', 'число', 'c']):\n",
    "    print(f'{i + 1}. {el}')"
   ]
  },
  {
   "cell_type": "code",
   "execution_count": 5,
   "id": "historical-lebanon",
   "metadata": {},
   "outputs": [
    {
     "name": "stdout",
     "output_type": "stream",
     "text": [
      "8 1 27\n"
     ]
    }
   ],
   "source": [
    "# max/min/sum\n",
    "a = [4,5,6,1,3,8]\n",
    "print(max(a), min(a), sum(a))"
   ]
  },
  {
   "cell_type": "code",
   "execution_count": 7,
   "id": "enclosed-wisconsin",
   "metadata": {},
   "outputs": [
    {
     "data": {
      "text/plain": [
       "{'login': 'dog', 'score': 160}"
      ]
     },
     "execution_count": 7,
     "metadata": {},
     "output_type": "execute_result"
    }
   ],
   "source": [
    "users = [\n",
    "    {'login': 'anya', 'score': 150},\n",
    "    {'login': 'Petyaa', 'score': 20},\n",
    "    {'login': 'dog', 'score': 160},\n",
    "]\n",
    "max(users, key=lambda u: u[\"score\"])"
   ]
  },
  {
   "cell_type": "markdown",
   "id": "incredible-butter",
   "metadata": {},
   "source": [
    "### 2. Сортировка"
   ]
  },
  {
   "cell_type": "code",
   "execution_count": 10,
   "id": "sonic-grade",
   "metadata": {},
   "outputs": [
    {
     "name": "stdout",
     "output_type": "stream",
     "text": [
      "[10, 2, 22, 3, 4, 5, 55]\n"
     ]
    }
   ],
   "source": [
    "# sort/sorted\n",
    "a = [5,4,10,3,2, 22, 55]\n",
    "b = sorted(a) # создаёт новый список\n",
    "a.sort() # изменяет существующий список\n",
    "a.sort(key=lambda x: x % 10, reverse=False)\n",
    "print(a)"
   ]
  },
  {
   "cell_type": "code",
   "execution_count": 12,
   "id": "behavioral-rehabilitation",
   "metadata": {},
   "outputs": [],
   "source": [
    "# Сортировка у списков стабильная, см. https://docs.python.org/3/library/stdtypes.html#mutable-sequence-types\n",
    "old_list = list(a)\n",
    "for i in range(100):\n",
    "    a.sort(key=lambda x: 1) # делаем все элементы одинаковыми при сравнении\n",
    "    assert a == old_list\n",
    "\n",
    "# Мало кто держит в голове все ньюансы стандартной библиотеки, и спустя некоторое время понять почему код,\n",
    "# опирающийся на это работает... может быть проблематично"
   ]
  },
  {
   "cell_type": "markdown",
   "id": "fleet-brunswick",
   "metadata": {},
   "source": [
    "### 3. Файлы"
   ]
  },
  {
   "cell_type": "code",
   "execution_count": 11,
   "id": "controversial-switzerland",
   "metadata": {},
   "outputs": [],
   "source": [
    "# открытие текстовых файлов на запись\n",
    "f = open('my_file.txt', 'w')\n",
    "f.write('Straße strasse')\n",
    "f.close()"
   ]
  },
  {
   "cell_type": "code",
   "execution_count": 15,
   "id": "fifty-norwegian",
   "metadata": {},
   "outputs": [
    {
     "name": "stdout",
     "output_type": "stream",
     "text": [
      "Straße strasse\n"
     ]
    }
   ],
   "source": [
    "# на чтение и так, чтобы не думать о закрытии файла\n",
    "with open('my_file.txt', encoding='utf-8', errors='ignore') as f:\n",
    "    print(f.read())"
   ]
  },
  {
   "cell_type": "code",
   "execution_count": 16,
   "id": "duplicate-making",
   "metadata": {},
   "outputs": [
    {
     "name": "stdout",
     "output_type": "stream",
     "text": [
      "Help on class Codec in module codecs:\n",
      "\n",
      "class Codec(builtins.object)\n",
      " |  Defines the interface for stateless encoders/decoders.\n",
      " |  \n",
      " |  The .encode()/.decode() methods may use different error\n",
      " |  handling schemes by providing the errors argument. These\n",
      " |  string values are predefined:\n",
      " |  \n",
      " |   'strict' - raise a ValueError error (or a subclass)\n",
      " |   'ignore' - ignore the character and continue with the next\n",
      " |   'replace' - replace with a suitable replacement character;\n",
      " |              Python will use the official U+FFFD REPLACEMENT\n",
      " |              CHARACTER for the builtin Unicode codecs on\n",
      " |              decoding and '?' on encoding.\n",
      " |   'surrogateescape' - replace with private code points U+DCnn.\n",
      " |   'xmlcharrefreplace' - Replace with the appropriate XML\n",
      " |                         character reference (only for encoding).\n",
      " |   'backslashreplace'  - Replace with backslashed escape sequences.\n",
      " |   'namereplace'       - Replace with \\N{...} escape sequences\n",
      " |                         (only for encoding).\n",
      " |  \n",
      " |  The set of allowed values can be extended via register_error.\n",
      " |  \n",
      " |  Methods defined here:\n",
      " |  \n",
      " |  decode(self, input, errors='strict')\n",
      " |      Decodes the object input and returns a tuple (output\n",
      " |      object, length consumed).\n",
      " |      \n",
      " |      input must be an object which provides the bf_getreadbuf\n",
      " |      buffer slot. Python strings, buffer objects and memory\n",
      " |      mapped files are examples of objects providing this slot.\n",
      " |      \n",
      " |      errors defines the error handling to apply. It defaults to\n",
      " |      'strict' handling.\n",
      " |      \n",
      " |      The method may not store state in the Codec instance. Use\n",
      " |      StreamReader for codecs which have to keep state in order to\n",
      " |      make decoding efficient.\n",
      " |      \n",
      " |      The decoder must be able to handle zero length input and\n",
      " |      return an empty object of the output object type in this\n",
      " |      situation.\n",
      " |  \n",
      " |  encode(self, input, errors='strict')\n",
      " |      Encodes the object input and returns a tuple (output\n",
      " |      object, length consumed).\n",
      " |      \n",
      " |      errors defines the error handling to apply. It defaults to\n",
      " |      'strict' handling.\n",
      " |      \n",
      " |      The method may not store state in the Codec instance. Use\n",
      " |      StreamWriter for codecs which have to keep state in order to\n",
      " |      make encoding efficient.\n",
      " |      \n",
      " |      The encoder must be able to handle zero length input and\n",
      " |      return an empty object of the output object type in this\n",
      " |      situation.\n",
      " |  \n",
      " |  ----------------------------------------------------------------------\n",
      " |  Data descriptors defined here:\n",
      " |  \n",
      " |  __dict__\n",
      " |      dictionary for instance variables (if defined)\n",
      " |  \n",
      " |  __weakref__\n",
      " |      list of weak references to the object (if defined)\n",
      "\n"
     ]
    }
   ],
   "source": [
    "# Почитать про возможные варианты обработки ошибок\n",
    "import codecs\n",
    "help(codecs.Codec)"
   ]
  },
  {
   "cell_type": "markdown",
   "id": "confident-commerce",
   "metadata": {},
   "source": [
    "### 4. casefold vs lower"
   ]
  },
  {
   "cell_type": "code",
   "execution_count": 13,
   "id": "subject-sport",
   "metadata": {},
   "outputs": [
    {
     "data": {
      "text/plain": [
       "'straße strasse'"
      ]
     },
     "execution_count": 13,
     "metadata": {},
     "output_type": "execute_result"
    }
   ],
   "source": [
    "'Straße strasse'.lower()"
   ]
  },
  {
   "cell_type": "code",
   "execution_count": 6,
   "id": "forty-statement",
   "metadata": {},
   "outputs": [
    {
     "data": {
      "text/plain": [
       "'strasse strasse'"
      ]
     },
     "execution_count": 6,
     "metadata": {},
     "output_type": "execute_result"
    }
   ],
   "source": [
    "'Straße strasse'.casefold() # Return a version of the string suitable for caseless comparisons"
   ]
  },
  {
   "cell_type": "markdown",
   "id": "organic-password",
   "metadata": {},
   "source": [
    "### 5. Полезности из стандартной библиотеки"
   ]
  },
  {
   "cell_type": "code",
   "execution_count": 18,
   "id": "rubber-paste",
   "metadata": {},
   "outputs": [],
   "source": [
    "from collections import defaultdict, Counter"
   ]
  },
  {
   "cell_type": "code",
   "execution_count": 19,
   "id": "1fbdcf7f",
   "metadata": {},
   "outputs": [
    {
     "data": {
      "text/plain": [
       "Counter({'S': 1, 't': 2, 'r': 2, 'a': 2, 'ß': 1, 'e': 2, ' ': 1, 's': 3})"
      ]
     },
     "execution_count": 19,
     "metadata": {},
     "output_type": "execute_result"
    }
   ],
   "source": [
    "Counter('Straße strasse')"
   ]
  },
  {
   "cell_type": "code",
   "execution_count": 15,
   "id": "8dec564e",
   "metadata": {},
   "outputs": [
    {
     "name": "stdout",
     "output_type": "stream",
     "text": [
      "1; 5678; 2\n"
     ]
    }
   ],
   "source": [
    "l = [1, 5678, 2]\n",
    "print('; '.join([str(el) for el in l]))"
   ]
  },
  {
   "cell_type": "code",
   "execution_count": 15,
   "id": "f8b45ba3",
   "metadata": {},
   "outputs": [
    {
     "name": "stdout",
     "output_type": "stream",
     "text": [
      "2\n",
      "True\n"
     ]
    }
   ],
   "source": [
    "print(len('dadf dafasdf'.split(' ')))\n",
    "print( '5' in [1,4,'5'])"
   ]
  },
  {
   "cell_type": "markdown",
   "id": "5e621858",
   "metadata": {},
   "source": [
    "Скачать/создать два текстовых файла. \n",
    "Посчитать количество вхождений уникальных слов в этих двух документах.\n",
    "Посчитать  меру TF-IDF для уникальных слов из двух файлов https://ru.wikipedia.org/wiki/TF-IDF. \n",
    "#\n",
    "import math \n",
    "math.log(100)"
   ]
  },
  {
   "cell_type": "code",
   "execution_count": null,
   "id": "35cee503",
   "metadata": {},
   "outputs": [],
   "source": [
    "# Спасибо Александру Анкутдинову за создание основы этих файлов"
   ]
  }
 ],
 "metadata": {
  "kernelspec": {
   "display_name": "Python 3 (ipykernel)",
   "language": "python",
   "name": "python3"
  },
  "language_info": {
   "codemirror_mode": {
    "name": "ipython",
    "version": 3
   },
   "file_extension": ".py",
   "mimetype": "text/x-python",
   "name": "python",
   "nbconvert_exporter": "python",
   "pygments_lexer": "ipython3",
   "version": "3.11.3"
  }
 },
 "nbformat": 4,
 "nbformat_minor": 5
}
