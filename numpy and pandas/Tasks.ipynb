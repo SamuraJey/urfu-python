{
 "cells": [
  {
   "cell_type": "markdown",
   "metadata": {},
   "source": [
    "# Домашнее задание 0."
   ]
  },
  {
   "cell_type": "markdown",
   "metadata": {},
   "source": [
    "В этой домашке запрещается использовать циклы. Все задачи должны быть выполнены с помощью внутренних функций numpy и pandas."
   ]
  },
  {
   "cell_type": "code",
   "execution_count": 1,
   "metadata": {},
   "outputs": [],
   "source": [
    "import numpy as np\n",
    "import pandas as pd\n",
    "from numpy.testing import assert_equal, assert_array_equal\n",
    "from pandas.testing import assert_frame_equal"
   ]
  },
  {
   "cell_type": "markdown",
   "metadata": {},
   "source": [
    "# Ближайший элемент"
   ]
  },
  {
   "cell_type": "markdown",
   "metadata": {},
   "source": [
    "Реализуйте функцию, принимающую на вход непустой тензор (может быть многомерным) $X$ и некоторое число $a$ и возвращающую ближайший к числу элемент тензора. Если ближайших несколько - выведите минимальный из ближайших. (Вернуть нужно само число, а не индекс числа!)\n",
    "\n",
    "### Sample\n",
    "#### Input:\n",
    "```python\n",
    "X = np.array([[ 1,  2, 13],\n",
    "              [15,  6,  8],\n",
    "              [ 7, 18,  9]])\n",
    "a = 7.2\n",
    "```\n",
    "#### Output:\n",
    "```python\n",
    "7\n",
    "```"
   ]
  },
  {
   "cell_type": "markdown",
   "metadata": {},
   "source": [
    "# TASK"
   ]
  },
  {
   "cell_type": "code",
   "execution_count": 9,
   "metadata": {},
   "outputs": [],
   "source": [
    "def nearest_value(X: np.ndarray, a: float) -> np.float:\n",
    "    ### ╰( ͡° ͜ʖ ͡° )つ──☆*:・ﾟ\n",
    "    pass"
   ]
  },
  {
   "cell_type": "code",
   "execution_count": null,
   "metadata": {},
   "outputs": [],
   "source": [
    "######################################################\n",
    "assert_equal(\n",
    "    nearest_value(np.array([ 1,  2, 13]), 10),\n",
    "    13)\n",
    "######################################################\n",
    "assert_equal(\n",
    "    nearest_value(np.array([ -1,  0]), -0.5),\n",
    "    -1)\n",
    "######################################################\n",
    "assert_equal(\n",
    "    nearest_value(np.array([[[ 1], [2],[3]],[[4],[5],[6]]]), 4.5),\n",
    "    4)\n",
    "######################################################\n",
    "assert_equal(\n",
    "    nearest_value(np.array([[ 1,  2, 13],\n",
    "                            [15,  6,  8],\n",
    "                            [ 7, 18,  9]]), 7.2),\n",
    "    7)\n",
    "######################################################\n",
    "assert_equal(\n",
    "    nearest_value(np.array([[ -1,  -2],\n",
    "                            [-15,  -6]]), -100),\n",
    "    -15)\n",
    "######################################################\n",
    "assert_equal(\n",
    "    nearest_value(np.array([[ 2,  2],\n",
    "                            [12,  12]]), 7),\n",
    "    2)\n",
    "######################################################\n",
    "assert_equal(\n",
    "    nearest_value(np.array([[ -2,  -2],\n",
    "                            [-12,  -12]]), -7),\n",
    "    -12)\n",
    "######################################################"
   ]
  },
  {
   "cell_type": "markdown",
   "metadata": {},
   "source": [
    "# Сортировка чисел"
   ]
  },
  {
   "cell_type": "markdown",
   "metadata": {},
   "source": [
    "Дан одномерный массив целых чисел. Необходимо отсортировать в нем только числа, которые делятся на $2$. При этом начальный массив изменять нельзя.\n",
    "\n",
    "### Sample\n",
    "#### Input:\n",
    "```python\n",
    "A = np.array([43, 66, 34, 55, 78, 105, 2])\n",
    "```\n",
    "#### Output:\n",
    "```python\n",
    "array([ 43,   2,  34,  55,  66, 105,  78])\n",
    "```\n"
   ]
  },
  {
   "cell_type": "markdown",
   "metadata": {},
   "source": [
    "# TASK"
   ]
  },
  {
   "cell_type": "code",
   "execution_count": 16,
   "metadata": {},
   "outputs": [],
   "source": [
    "import numpy as np\n",
    "\n",
    "def sort_evens(A: np.ndarray) -> np.ndarray:\n",
    "    ### ╰( ͡° ͜ʖ ͡° )つ──☆*:・ﾟ\n",
    "    pass"
   ]
  },
  {
   "cell_type": "code",
   "execution_count": 14,
   "metadata": {},
   "outputs": [],
   "source": [
    "######################################################\n",
    "assert_array_equal(sort_evens(np.array([])), np.array([]))\n",
    "######################################################\n",
    "assert_array_equal(sort_evens(np.array([2, 0])), np.array([0, 2]))\n",
    "######################################################\n",
    "assert_array_equal(sort_evens(np.array([9, 3, 1, 5, 7])), np.array([9, 3, 1, 5, 7]))\n",
    "######################################################\n",
    "assert_array_equal(sort_evens(np.array([8, 12, 4, 10, 6, 2])), np.array([2, 4, 6, 8, 10, 12]))\n",
    "######################################################"
   ]
  },
  {
   "cell_type": "markdown",
   "metadata": {},
   "source": [
    "# Страшные маски"
   ]
  },
  {
   "cell_type": "markdown",
   "metadata": {},
   "source": [
    "Даны трехмерный тензор размерности $X(n, k, k)$, состоящий из $0$ или $1$, или $n$ картинок $k \\times k$. Нужно применить к нему указанную маску размерности $(k, k)$: В случае, если биты в маске и картинке совпадают, то результирующий бит должен быть равен $0$, иначе $1$.\n",
    "\n",
    "### Sample\n",
    "#### Input:\n",
    "```python\n",
    "X = np.array([\n",
    "              [[ 1, 0, 1],\n",
    "               [ 1, 1, 1],\n",
    "               [ 0, 0, 1]],\n",
    "             \n",
    "              [[ 1, 1, 1],\n",
    "               [ 1, 1, 1],\n",
    "               [ 1, 1, 1]]\n",
    "            ])\n",
    "mask = np.array([[1, 1, 0],\n",
    "                 [1, 1, 0],\n",
    "                 [1, 1, 0]])\n",
    "```\n",
    "#### Output:\n",
    "```python\n",
    "array([[[0, 1, 1],\n",
    "        [0, 0, 1],\n",
    "        [1, 1, 1]],\n",
    "\n",
    "       [[0, 0, 1],\n",
    "        [0, 0, 1],\n",
    "        [0, 0, 1]]])\n",
    "```\n"
   ]
  },
  {
   "cell_type": "markdown",
   "metadata": {},
   "source": [
    "# TASK"
   ]
  },
  {
   "cell_type": "code",
   "execution_count": 13,
   "metadata": {},
   "outputs": [],
   "source": [
    "import numpy as np\n",
    "\n",
    "def tensor_mask(X: np.ndarray, mask: np.ndarray) -> np.ndarray:\n",
    "    ### ╰( ͡° ͜ʖ ͡° )つ──☆*:・ﾟ\n",
    "    pass"
   ]
  },
  {
   "cell_type": "code",
   "execution_count": 15,
   "metadata": {},
   "outputs": [],
   "source": [
    "######################################################\n",
    "X = np.zeros(9, dtype=int).reshape((1,3,3))\n",
    "mask = np.zeros(9, dtype=int).reshape((3,3))\n",
    "assert_array_equal(tensor_mask(X, mask), np.zeros(9, dtype=int).reshape((1,3,3)))\n",
    "######################################################\n",
    "X = np.zeros(9*3, dtype=int).reshape((3,3,3))\n",
    "mask = np.ones(9, dtype=int).reshape((3,3))\n",
    "assert_array_equal(tensor_mask(X, mask), np.ones(9*3, dtype=int).reshape((3,3,3)))\n",
    "######################################################\n",
    "X = np.array([[[ 1, 0, 1],\n",
    "               [ 1, 1, 1],\n",
    "               [ 0, 0, 1]]])\n",
    "mask = np.array([[1, 1, 0],\n",
    "                 [1, 1, 0],\n",
    "                 [1, 1, 0]])\n",
    "assert_array_equal(tensor_mask(X, mask), \n",
    "                   np.array([[[0, 1, 1],\n",
    "                             [0, 0, 1],\n",
    "                             [1, 1, 1]]]))\n",
    "######################################################"
   ]
  },
  {
   "cell_type": "markdown",
   "metadata": {},
   "source": [
    "# Сумма цифр в массиве"
   ]
  },
  {
   "cell_type": "markdown",
   "metadata": {},
   "source": [
    "На вход подается `np.ndarray` c натуральными числами. Надо получить массив сумм цифр в этих числах.\n",
    "\n",
    "### Sample\n",
    "#### Input:\n",
    "```python\n",
    "a = np.array([1241, 354, 121])\n",
    "```\n",
    "#### Output:\n",
    "```python\n",
    "array([ 8, 12, 4])\n",
    "```\n"
   ]
  },
  {
   "cell_type": "markdown",
   "metadata": {},
   "source": [
    "# TASK"
   ]
  },
  {
   "cell_type": "code",
   "execution_count": 19,
   "metadata": {},
   "outputs": [],
   "source": [
    "import numpy as np\n",
    "\n",
    "def num_sum(a: np.ndarray) -> np.ndarray:\n",
    "    ### ╰( ͡° ͜ʖ ͡° )つ──☆*:・ﾟ\n",
    "    pass"
   ]
  },
  {
   "cell_type": "code",
   "execution_count": 21,
   "metadata": {},
   "outputs": [],
   "source": [
    "######################################################\n",
    "assert_array_equal(num_sum(np.array([82])), np.array([10]))\n",
    "######################################################\n",
    "assert_array_equal(num_sum(np.array([1241, 354, 121])), np.array([ 8, 12, 4]))\n",
    "######################################################\n",
    "assert_array_equal(num_sum(np.array([1, 22, 333, 4444, 55555])), np.array([1, 4, 9, 16, 25]))\n",
    "######################################################                  "
   ]
  },
  {
   "cell_type": "markdown",
   "metadata": {},
   "source": [
    "# Чистка NaN-ов"
   ]
  },
  {
   "cell_type": "markdown",
   "metadata": {},
   "source": [
    "Одна из важных проблем данных - пустые значения. В *numpy* и *pandas* они обычно объявляются специальным типом ```np.nan```. В реальных задачах нам часто нужно что-то сделать с этими значениями. Например заменить на 0, среднее или медиану.\n",
    "\n",
    "Реализуйте функцию, которая во входной вещественной матрице ```X``` находит все значения ```nan``` и заменяет их на **медиану** остальных элементов столбца. Если все элементы столбца матрицы ```nan```, то заполняем столбец нулями.\n",
    "\n",
    "### Sample\n",
    "#### Input:\n",
    "```python\n",
    "X = np.array([[np.nan,      4,  np.nan],\n",
    "              [np.nan, np.nan,       8],\n",
    "              [np.nan,      5,  np.nan]])\n",
    "```\n",
    "#### Output:\n",
    "```python\n",
    "array([[0. , 4. , 8. ],\n",
    "       [0. , 4.5, 8. ],\n",
    "       [0. , 5. , 8. ]])\n",
    "```\n"
   ]
  },
  {
   "cell_type": "markdown",
   "metadata": {},
   "source": [
    "# TASK"
   ]
  },
  {
   "cell_type": "code",
   "execution_count": 3,
   "metadata": {},
   "outputs": [],
   "source": [
    "import numpy as np\n",
    "\n",
    "def replace_nans(X: np.ndarray) -> np.ndarray:\n",
    "    ### ╰( ͡° ͜ʖ ͡° )つ──☆*:・ﾟ\n",
    "    pass"
   ]
  },
  {
   "cell_type": "code",
   "execution_count": 7,
   "metadata": {},
   "outputs": [],
   "source": [
    "from numpy.testing import assert_array_equal, assert_array_almost_equal\n",
    "######################################################\n",
    "assert_array_equal(replace_nans(\n",
    "    np.array([[np.nan], [np.nan],  [np.nan]])),\n",
    "    np.array([[0. ],[ 0. ],[ 0. ]])\n",
    ")\n",
    "######################################################\n",
    "assert_array_equal(replace_nans(\n",
    "    np.array([[0, 42,  42]])),\n",
    "    np.array([[0, 42 , 42]])\n",
    ")\n",
    "######################################################\n",
    "assert_array_equal(replace_nans(\n",
    "    np.array([[np.nan], [1], [np.nan]])),\n",
    "    np.array([[1.] ,[ 1.] ,[ 1. ]])\n",
    ")\n",
    "######################################################\n",
    "assert_array_equal(replace_nans(\n",
    "    np.array([[4], [1],  [np.nan]])),\n",
    "    np.array([[4 ], [1] ,[ 2.5]])\n",
    ")\n",
    "######################################################\n",
    "assert_array_equal(replace_nans(\n",
    "    np.array([[np.nan, np.nan,  np.nan],\n",
    "              [     4, np.nan,       5],\n",
    "              [np.nan,      8,  np.nan]]).T),\n",
    "    np.array([[0. , 0. , 0. ],\n",
    "              [4. , 4.5, 5. ],\n",
    "              [8. , 8. , 8. ]]).T\n",
    ")\n",
    "######################################################"
   ]
  },
  {
   "cell_type": "markdown",
   "metadata": {},
   "source": [
    "# Бухгалтерия зоопарка"
   ]
  },
  {
   "cell_type": "markdown",
   "metadata": {},
   "source": [
    "Вам на вход подается словарь, где ключ - это тип животного, а значение - словарь с признаками этого животного, где ключ - тип признака, а значение - значение признака (Типичный json проще говоря). Наименования признаков животного - всегда строки. Значения признаков - любой из типов pandas.\n",
    "\n",
    "Вам следует создать табличку, где по строчкам будут идти животные, а по колонкам - их признаки, которая удовлетворяет следующим условиям:\n",
    "\n",
    "* Тип животного нужно выделить в отдельную колонку `Type`\n",
    "* Строки отсортированы по типу животного в алфавитном порядке\n",
    "* Колонки отсортированы в алфавитном порядке, кроме колонки `Type` - она первая\n",
    "* Индексы строк - ряд натуральных чисел начиная с 0 без пропусков\n",
    "\n",
    "Имейте в виду, что признаки у двух животных могут не совпадать, значит незаполненные данные нужно заполнить `Nan` значением.\n",
    "\n",
    "Верните на выходе табличку(`DataFrame`), в которой отсутствуют Nan значения. При этом могут отсутствовать некоторые признаки, но животные должны присутствовать **все**. Изначальные типы значений из словаря: `int64`, `float64`, `bool` и.т.д. должны сохраниться и в конечной табличке, а не превратиться в `object`-ы. (От удаляемых признаков этого, очевидно, не требуется).\n",
    "\n",
    "### Sample 1\n",
    "#### Input:\n",
    "```python\n",
    "ZOO = {\n",
    "        'cat':{'color':'black', 'tail_len': 50, 'injured': False}, \n",
    "        'dog':{'age': 6, 'tail_len': 30.5, 'injured': True}\n",
    "      }\n",
    "```\n",
    "#### Output:\n",
    "\n",
    "|  | Type | injured |tail_len |\n",
    "|--|----|--------|-------|\n",
    "|0 | cat |  False | 50.0 |\n",
    "|1 | dog |  True  | 30.5  |\n"
   ]
  },
  {
   "cell_type": "markdown",
   "metadata": {},
   "source": [
    "# TASK"
   ]
  },
  {
   "cell_type": "code",
   "execution_count": 7,
   "metadata": {},
   "outputs": [],
   "source": [
    "import numpy as np\n",
    "import pandas as pd\n",
    "\n",
    "def ZOOtable(zoo: dict) -> pd.DataFrame:\n",
    "    ### ╰( ͡° ͜ʖ ͡° )つ──☆*:・ﾟ\n",
    "    pass"
   ]
  },
  {
   "cell_type": "code",
   "execution_count": 9,
   "metadata": {},
   "outputs": [],
   "source": [
    "######################################################\n",
    "ZOO = {\n",
    "        'cat': {'color':'black', 'tail_len': 50.0, 'injured': False}, \n",
    "        'dog': {'age': 6, 'tail_len': 30.5, 'injured': True}\n",
    "      }\n",
    "answer = pd.DataFrame(\n",
    "    {\n",
    "     'Type':['cat', 'dog'], \n",
    "     'injured':[False, True], \n",
    "     'tail_len':[50.0, 30.5]\n",
    "    }\n",
    ")\n",
    "df = ZOOtable(ZOO)\n",
    "\n",
    "assert_frame_equal(\n",
    "    df.reset_index(drop=True),\n",
    "    answer\n",
    ")\n",
    "######################################################\n",
    "ZOO = {\n",
    "        'cat': {'color':'black'}, \n",
    "        'dog': {'age': 6}\n",
    "      }\n",
    "answer = pd.DataFrame(\n",
    "    {\n",
    "     'Type':['cat', 'dog']\n",
    "    }\n",
    ")\n",
    "\n",
    "df = ZOOtable(ZOO)\n",
    "\n",
    "assert_frame_equal(\n",
    "    df.reset_index(drop=True),\n",
    "    answer\n",
    ")\n",
    "######################################################"
   ]
  },
  {
   "cell_type": "markdown",
   "metadata": {},
   "source": [
    "# Простые преобразования"
   ]
  },
  {
   "cell_type": "markdown",
   "metadata": {},
   "source": [
    "На вход подается `DataFrame` из 3-х колонок дата рождения и смерти человека на **русском** языке в формате представленом ниже:\n",
    "\n",
    "|  | Имя             | Дата рождения  | Дата смерти      \n",
    "|--|-----------------|----------------|------------------\n",
    "|0 |Никола Тесла     |10 июля 1856 г. |7 января 1943 г.  \n",
    "|1 |Альберт Эйнштейн |14 марта 1879 г.|18 апреля 1955 г.  \n",
    "\n",
    "Необходимо вернуть исходную таблицу с добавленным в конце столбцом полных лет жизни.\n",
    "\n",
    "\n",
    "|  | Имя             | Дата рождения  | Дата смерти     | Полных лет\n",
    "|--|-----------------|----------------|-----------------|-----------\n",
    "|0 |Никола Тесла     |10 июля 1856 г. |7 января 1943 г. | 86        \n",
    "|1 |Альберт Эйнштейн |14 марта 1879 г.|18 апреля 1955 г.| 76        \n",
    "\n",
    "Формат даты единый, исключений нет, пробелы мужду элементами дат присутствуют, исключений (`Nan`) нету.\n",
    "\n",
    "P.S. Для обработки высокосных годов используйте модуль `dateutil.relativedelta`."
   ]
  },
  {
   "cell_type": "markdown",
   "metadata": {},
   "source": [
    "# TASK"
   ]
  },
  {
   "cell_type": "code",
   "execution_count": 16,
   "metadata": {},
   "outputs": [],
   "source": [
    "import numpy as np\n",
    "import pandas as pd\n",
    "\n",
    "def rus_feature(df: pd.DataFrame) -> pd.DataFrame:\n",
    "    ### ╰( ͡° ͜ʖ ͡° )つ──☆*:・ﾟ\n",
    "    pass"
   ]
  },
  {
   "cell_type": "code",
   "execution_count": null,
   "metadata": {},
   "outputs": [],
   "source": [
    "######################################################\n",
    "names = pd.DataFrame({'Имя':['Никола Тесла', 'Альберт Эйнштейн'], \n",
    "                   'Дата рождения':['10 июля 1856 г.','14 марта 1879 г.'],\n",
    "                   'Дата смерти':  ['7 января 1943 г.', '18 апреля 1955 г.']})\n",
    "answer = pd.DataFrame({'Имя':['Никола Тесла', 'Альберт Эйнштейн'], \n",
    "                       'Дата рождения':['10 июля 1856 г.','14 марта 1879 г.'],\n",
    "                       'Дата смерти':  ['7 января 1943 г.', '18 апреля 1955 г.'],\n",
    "                       'Полных лет':[86, 76]})\n",
    "assert_frame_equal(\n",
    "    rus_feature(names),\n",
    "    answer\n",
    ")\n",
    "######################################################\n",
    "names = pd.DataFrame({'Имя':['Никола Тесла'], \n",
    "                   'Дата рождения':['10 июля 1856 г.'],\n",
    "                   'Дата смерти':  ['7 января 1857 г.']})\n",
    "answer = pd.DataFrame({'Имя':['Никола Тесла'], \n",
    "                       'Дата рождения':['10 июля 1856 г.'],\n",
    "                       'Дата смерти':  ['7 января 1857 г.'],\n",
    "                       'Полных лет':[0]})\n",
    "assert_frame_equal(\n",
    "    rus_feature(names),\n",
    "    answer\n",
    ")\n",
    "######################################################\n",
    "names = pd.DataFrame({'Имя':['Никола Тесла'], \n",
    "                   'Дата рождения':['1 января 2000 г.'],\n",
    "                   'Дата смерти':  ['31 декабря 2000 г.']})\n",
    "answer = pd.DataFrame({'Имя':['Никола Тесла'], \n",
    "                       'Дата рождения':['1 января 2000 г.'],\n",
    "                       'Дата смерти':  ['31 декабря 2000 г.'],\n",
    "                       'Полных лет':[0]})\n",
    "assert_frame_equal(\n",
    "    rus_feature(names),\n",
    "    answer\n",
    ")"
   ]
  },
  {
   "cell_type": "markdown",
   "metadata": {},
   "source": [
    "# Характеристики"
   ]
  },
  {
   "cell_type": "markdown",
   "metadata": {},
   "source": [
    "В этой задаче на вход подаются всем известные данные о погибших/выживших пассажирах на титанике. (Файл `titanik_train.csv` в [папке data](https://github.com/samstikhin/ml2021/tree/master/01-Analysis/data)). \n",
    "\n",
    "Верните среднее, медиану, максимальное и минимальное значение возраста **погибших** мужчин. Именно в данном порядке.\n",
    "\n",
    "### Sample 1\n",
    "#### Input:\n",
    "```python\n",
    "df = pd.read_csv('titanic_train.csv', index_col='PassengerId')\n",
    "```\n",
    "#### Output:\n",
    "```python\n",
    "return 42,42,42,42\n",
    "```"
   ]
  },
  {
   "cell_type": "markdown",
   "metadata": {},
   "source": [
    "# TASK"
   ]
  },
  {
   "cell_type": "code",
   "execution_count": 298,
   "metadata": {},
   "outputs": [],
   "source": [
    "def men_stat(df: pd.DataFrame) -> (float, float, float, float):\n",
    "    ### ╰( ͡° ͜ʖ ͡° )つ──☆*:・ﾟ\n",
    "    pass"
   ]
  },
  {
   "cell_type": "markdown",
   "metadata": {},
   "source": [
    "# Сводная таблица"
   ]
  },
  {
   "cell_type": "markdown",
   "metadata": {},
   "source": [
    "В этой задаче на вход подаются всем известные данные о погибших/выживших пассажирах на титанике. (Файл `titanik_train.csv` в [папке data](https://github.com/samstikhin/ml2021/tree/master/01-Analysis/data)). \n",
    "\n",
    "Сделать сводную таблицу по **медианному возрасту** для пола и класса. Для примера посмотрите сводную таблицу по сумме выживших, для пола и класса. \n",
    "\n",
    "| Sex        | Pclass  | Survived |\n",
    "|------------|---------|----------|\n",
    "| **female** | **1**   |      91  |\n",
    "|            | **2**   |      70  |\n",
    "|            | **3**   |      72  |\n",
    "| **male**   | **1**   |      45  |\n",
    "|            | **2**   |      17  |\n",
    "|            | **3**   |      47  |\n",
    "\n",
    "Обратите внимание, что первые 2 столбца - это не колонки, а `MultiIndex`.\n",
    "\n",
    "### Sample 1\n",
    "#### Input:\n",
    "```python\n",
    "df = pd.read_csv('titanic_train.csv', index_col='PassengerId')\n",
    "```"
   ]
  },
  {
   "cell_type": "markdown",
   "metadata": {},
   "source": [
    "# TASK"
   ]
  },
  {
   "cell_type": "code",
   "execution_count": 34,
   "metadata": {},
   "outputs": [],
   "source": [
    "def age_stat(df: pd.DataFrame) -> pd.DataFrame:\n",
    "    ### ╰( ͡° ͜ʖ ͡° )つ──☆*:・ﾟ\n",
    "    pass"
   ]
  },
  {
   "cell_type": "markdown",
   "metadata": {},
   "source": [
    "# Популярные девушки"
   ]
  },
  {
   "cell_type": "markdown",
   "metadata": {},
   "source": [
    "В этой задаче на вход подаются всем известные данные о погибших/выживших пассажирах на титанике. (Файл `titanik_train.csv` в [папке data](https://github.com/samstikhin/ml2021/tree/master/01-Analysis/data)). \n",
    "\n",
    "Выведите список имен незамужних женщин(`Miss`) отсортированный по популярности. \n",
    "\n",
    "* В полном имени девушек **имя** - это **первое слово без скобок** после `Miss`.\n",
    "* Остальные строки не рассматриваем.\n",
    "* Девушки с одинаковой популярностью сортируются по имени в алфавитном порядке.\n",
    "\n",
    "**Слово/имя** - подстрока без пробелов.\n",
    "**Популярность** - количество таких имен в таблице.\n",
    "\n",
    "### Sample 1\n",
    "#### Input:\n",
    "```python\n",
    "data = pd.read_csv('titanic_train.csv', index_col='PassengerId')\n",
    "```\n",
    "#### Output:\n",
    "Вот начало данного списка. Заметьте, **названия колонок должны совпадать** \n",
    "\n",
    "|  | Name | Popularity |\n",
    "|--|----|--------|\n",
    "|0 |Anna |9|\n",
    "|1 |Mary |9\n",
    "|2 |Margaret|6\n",
    "|3 |Elizabeth|5\n",
    "|4 |Alice |4\n",
    "|5 |Bertha |4\n",
    "|6 |Ellen |4\n",
    "|7 |Helen |4\n"
   ]
  },
  {
   "cell_type": "markdown",
   "metadata": {},
   "source": [
    "# TASK"
   ]
  },
  {
   "cell_type": "code",
   "execution_count": 22,
   "metadata": {},
   "outputs": [],
   "source": [
    "def fename_stat(df: pd.DataFrame) -> pd.DataFrame:\n",
    "    ### ╰( ͡° ͜ʖ ͡° )つ──☆*:・ﾟ\n",
    "    pass"
   ]
  }
 ],
 "metadata": {
  "kernelspec": {
   "display_name": "Python 3",
   "language": "python",
   "name": "python3"
  },
  "language_info": {
   "codemirror_mode": {
    "name": "ipython",
    "version": 3
   },
   "file_extension": ".py",
   "mimetype": "text/x-python",
   "name": "python",
   "nbconvert_exporter": "python",
   "pygments_lexer": "ipython3",
   "version": "3.8.8"
  }
 },
 "nbformat": 4,
 "nbformat_minor": 4
}
